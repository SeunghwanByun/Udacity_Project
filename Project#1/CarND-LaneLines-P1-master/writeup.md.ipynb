{
 "cells": [
  {
   "cell_type": "markdown",
   "metadata": {},
   "source": [
    "Reflection\n",
    "\n",
    "My pipeline consisted of 5 steps. First, I converted the images to graycale, then I used gaussian_blur function to all images using kernel size 5. Second, I got the canny edge images using two threshold, one is low threshold has 70 value, another is high threshold has 210 value. Third, I choose several points to get roi(region of interest). I use 8 points (100, height of image), (440, height11/18), (510, height11/18), (width, height), (width - 200, height), (460, height14/80), (440, height14/18), (200, height). Fourth, I got line segmented images using parameters rho=1, theta=pi/180, threshold=30, min_line_length=10, max_line_gap=20. Fifth, I got images included the drawn lane lines. In draw_lines function, I calculate gradients and angles in line segment. I use this formula to obtain gradient and angle. gradient = (y2-y1)/(x2-x1) angle = np.abs((np.arctan2(y2 - y1, x2 - x1) 180) / np.pi) If gradient is zero or angle is under than 30 degree I ignore. If gradient larger than 0, I append point of line_segment, accumulative sum average of left gradient, center point of x and y. Just used this formula. average_right = average_right + (y2-y1)/(x2-x1) centerPoint_right_x = centerPoint_right_x + x1 + x2 centerPoint_right_y = centerPoint_right_y + y1 + y2 I divided approximate value later process ste. And if gradient is less than 0 and larger than -0.8 I did process same with left step. After all process obtaining average of gradient of right and left lane lines, center point(x, y) of right and left lane lines using this formula. average_left = average_left / len(left) centerPoint_left_x = centerPoint_left_x / (2 len(left)) centerPoint_left_y = centerPoint_left_y / (2 * len(left))\n",
    "\n",
    "I draw lane lines using cv.line() function with pre-obtained parameters. cv2.line(img, ((int)(((int)(height11/18) - centerPoint_left_y + average_left centerPoint_left_x) / average_left), (int)(height11/18)), ((int)((height - centerPoint_left_y + average_left centerPoint_left_x) / average_left), height), [0, 255, 0], thickness)\n",
    "\n",
    "2. Identify potential shortcomings with your current pipeline\n",
    "One potential shortcoming would be blinking lane lines would happen when images with some brightness and shadow etc. occurs.\n",
    "\n",
    "3. Suggest possible improvements to your pipeline\n",
    "A possible improvement would be to use accumulative average of few image frames."
   ]
  },
  {
   "cell_type": "code",
   "execution_count": null,
   "metadata": {},
   "outputs": [],
   "source": []
  }
 ],
 "metadata": {
  "kernelspec": {
   "display_name": "common",
   "language": "python",
   "name": "common"
  },
  "language_info": {
   "codemirror_mode": {
    "name": "ipython",
    "version": 3
   },
   "file_extension": ".py",
   "mimetype": "text/x-python",
   "name": "python",
   "nbconvert_exporter": "python",
   "pygments_lexer": "ipython3",
   "version": "3.6.8"
  }
 },
 "nbformat": 4,
 "nbformat_minor": 2
}
